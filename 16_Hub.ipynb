{
  "nbformat": 4,
  "nbformat_minor": 0,
  "metadata": {
    "colab": {
      "provenance": [],
      "authorship_tag": "ABX9TyMVIgf34duYHktAuT76kjHO",
      "include_colab_link": true
    },
    "kernelspec": {
      "name": "python3",
      "display_name": "Python 3"
    },
    "language_info": {
      "name": "python"
    }
  },
  "cells": [
    {
      "cell_type": "markdown",
      "metadata": {
        "id": "view-in-github",
        "colab_type": "text"
      },
      "source": [
        "<a href=\"https://colab.research.google.com/github/PatinyaBuathong/Project-1_Coding/blob/main/16_Hub.ipynb\" target=\"_parent\"><img src=\"https://colab.research.google.com/assets/colab-badge.svg\" alt=\"Open In Colab\"/></a>"
      ]
    },
    {
      "cell_type": "markdown",
      "source": [
        "###  เลขที่ 16 นาย ปฏิญญา บัวทอง\n",
        "No.16 Patinya Buathong"
      ],
      "metadata": {
        "id": "TSWX4fVocZVG"
      }
    },
    {
      "cell_type": "code",
      "source": [],
      "metadata": {
        "id": "_yX-etnPQsg5"
      },
      "execution_count": null,
      "outputs": []
    },
    {
      "cell_type": "markdown",
      "source": [
        "# **1 July 2024**\n",
        "ได้ฝึกการใช้คำสั่ง input float การเขียนโค้ดคำนวณพื้นที่ ดัชนีมวลกาย\n"
      ],
      "metadata": {
        "id": "FHhHr0yEPpvd"
      }
    },
    {
      "cell_type": "code",
      "source": [
        "wide = int(input(\"wide (cm.) is? \"))\n",
        "length = int(input(\"length (cm.) is? \"))\n",
        "area = wide * length\n",
        "print(\"area of rectangle is\", area,\"cm²\")"
      ],
      "metadata": {
        "id": "DEj3gVp8P12t"
      },
      "execution_count": null,
      "outputs": []
    },
    {
      "cell_type": "code",
      "source": [
        "s = int(input(\"distance (m.) is? \"))\n",
        "t = int(input(\"time (s.) is? \"))\n",
        "v= s / t\n",
        "print(\"speed is\", v,\"m/s\")"
      ],
      "metadata": {
        "colab": {
          "base_uri": "https://localhost:8080/"
        },
        "id": "G6Ag1fhXRr91",
        "outputId": "a9a8bfe2-fb3d-4642-9ad8-f6eead8bd368"
      },
      "execution_count": null,
      "outputs": [
        {
          "output_type": "stream",
          "name": "stdout",
          "text": [
            "distance (m.) is? 2\n",
            "time (s.) is? 3\n",
            "speed is 0.6666666666666666 m/s\n"
          ]
        }
      ]
    },
    {
      "cell_type": "code",
      "source": [
        "print(\"This Program is body mass calculate \\nby Hubeiei\")\n",
        "name = str(input(\"\\nYour name is? \"))\n",
        "print(\"Welcome!!\",name )\n",
        "w = float(input(\"I want to know your weight (kg.) is? \"))\n",
        "h = float(input(\"I want to know your high (m.) is? \"))\n",
        "bmi = w/h**2\n",
        "print(\"\\nYour Body mass is\", bmi,\"kg / m2\")"
      ],
      "metadata": {
        "colab": {
          "base_uri": "https://localhost:8080/"
        },
        "id": "-4FDLrq0cNB4",
        "outputId": "c9ab6f15-0a72-420c-b2fa-a7022b98dee2"
      },
      "execution_count": null,
      "outputs": [
        {
          "output_type": "stream",
          "name": "stdout",
          "text": [
            "This Program is body mass calculate \n",
            "by Hubeiei\n",
            "\n",
            "Your name is? Nok\n",
            "Welcome!! Nok\n",
            "I want to know your weight (kg.) is? 57\n",
            "I want to know your high (m.) is? 1.78\n",
            "\n",
            "Your Body mass is 17.99015275849009 kg / m2\n"
          ]
        }
      ]
    },
    {
      "cell_type": "code",
      "source": [
        "print(\"This Program is body mass calculate V.2 \\nby Hubeiei\")\n",
        "name = str(input(\"\\nYour name is? \"))\n",
        "print(\"Welcome!!\",name )\n",
        "w = float(input(\"\\nI want to know your weight (kg.) is? \"))\n",
        "h = float(input(\"I want to know your high (m.) is? \"))\n",
        "bmi = w/h**2\n",
        "print(\"\\nYour Body mass is\", bmi,\"kg / m2\")\n",
        "\n",
        "if bmi < 18.5:\n",
        "  print(\"\\nYou should eat food from all 5 food groups\")\n",
        "elif bmi < 22.90 :\n",
        "  print(\"\\nYou have a good body and very healthy\")\n",
        "else :\n",
        "  print(\"\\nPlease take care of your health. and have exercise\")\n"
      ],
      "metadata": {
        "colab": {
          "base_uri": "https://localhost:8080/"
        },
        "id": "zakgHiJpg0gW",
        "outputId": "98050ecc-6e01-47a3-b59d-de7b6c10959f"
      },
      "execution_count": null,
      "outputs": [
        {
          "output_type": "stream",
          "name": "stdout",
          "text": [
            "This Program is body mass calculate V.2 \n",
            "by Hubeiei\n",
            "\n",
            "Your name is? Hub\n",
            "Welcome!! Hub\n",
            "\n",
            "I want to know your weight (kg.) is? 57\n",
            "I want to know your high (m.) is? 1.75\n",
            "\n",
            "Your Body mass is 18.612244897959183 kg / m2\n",
            "\n",
            "You have a good body and very healthy\n"
          ]
        }
      ]
    },
    {
      "cell_type": "markdown",
      "source": [
        "# **26 June 2024**\n",
        "input คือการนำเข้าข้อมูลเพื่อที่จะนำไปแสดงผลที่คำสั่ง print\n"
      ],
      "metadata": {
        "id": "0BVJFey3t3mW"
      }
    },
    {
      "cell_type": "code",
      "source": [
        "name = input(\"What is your name? \")\n",
        "print(\"My name is\", name)"
      ],
      "metadata": {
        "colab": {
          "base_uri": "https://localhost:8080/"
        },
        "id": "ma9qds-ku8ef",
        "outputId": "fe166c99-a420-469c-838f-1babb33be668"
      },
      "execution_count": null,
      "outputs": [
        {
          "output_type": "stream",
          "name": "stdout",
          "text": [
            "What is your name? Hub\n",
            "My name is Hub\n"
          ]
        }
      ]
    },
    {
      "cell_type": "code",
      "source": [
        "side = int(input(\"length (cm.) is? \"))\n",
        "area = side * side\n",
        "print(\"area of square is\", area,\" cm²\")"
      ],
      "metadata": {
        "colab": {
          "base_uri": "https://localhost:8080/"
        },
        "id": "wfb1nGu1ywjm",
        "outputId": "20778e1c-2f50-4cf4-cc93-8161719661b2"
      },
      "execution_count": null,
      "outputs": [
        {
          "output_type": "stream",
          "name": "stdout",
          "text": [
            "length (cm.) is? 50\n",
            "area of square is 2500  cm²\n"
          ]
        }
      ]
    },
    {
      "cell_type": "markdown",
      "source": [
        "# **05 June 2024**\n",
        "index เป็นค่า offset ซึ่งเป็นตัวเลขอ้างอิงจากตำแหน่งแรกของหน่วย\n",
        "\n",
        "ถ้าต้องการปริ้น index = 0 จะได้ตัวอักษรตัวแรก เช่น Python ปริ้นออกมาจะเป็นตัว P เพราะ\n",
        "\n",
        "P y t h o n\n",
        "\n",
        "0 1 2 3 4 5\n",
        "\n",
        "-6 -5 -4 -3 -2\n",
        "\n",
        "input เป็นการพิมพ์คำสั่งลงโปรแกรมที่ต้องการเขียนโค้ด\n",
        "\n",
        "process เป็นขั้นตอนการคิด การคำนวณทางคณิตศาสตร์ การตัดสินใจ โดยการรับข้อมูลมาจาก input\n",
        "\n",
        "output คือการแสดงผลของโปรแกรมจากการใช้คำสั่ง print()จะแสดงผลออกมาเป็นตัวเลขหรือข้อความ\n",
        "\n",
        "\n",
        "\n",
        "\n",
        "\n",
        "\n"
      ],
      "metadata": {
        "id": "p78MUKHaXAXk"
      }
    },
    {
      "cell_type": "code",
      "source": [
        "string1 = \"Python\"\n",
        "print(string1[0])"
      ],
      "metadata": {
        "id": "Ry0Gl1egYahT",
        "colab": {
          "base_uri": "https://localhost:8080/"
        },
        "outputId": "1e3085af-31d6-475e-a2f6-99337066a679"
      },
      "execution_count": null,
      "outputs": [
        {
          "output_type": "stream",
          "name": "stdout",
          "text": [
            "P\n"
          ]
        }
      ]
    },
    {
      "cell_type": "markdown",
      "source": [
        "# **29 May 2024**\n",
        "\n",
        "\n",
        "*   ได้รู้เกี่ยวกับตัวแปรว่าไม่ควรเป็น ตัวเลข และภาษาไทย\n",
        "*   ได้รู้เกี่ยวกับคำสั่ง integer(จำนวนเต็ม) float(ทศนิยม) string(ตัวอักษรภาษาอังกฤษ)\n",
        "*   ไดรู้เกี่ยวกับ type ว่าเป็นคำสั่งบอกประเภทของข้อมูล\n",
        "\n"
      ],
      "metadata": {
        "id": "6mWFhCNMZT0F"
      }
    },
    {
      "cell_type": "code",
      "source": [
        "a = 2\n",
        "b = 1.5\n",
        "c = \"Hub\"\n",
        "\n",
        "type(c)\n",
        "\n",
        "print(\"ตัวแปรที่ฉันคิด คือ name\")"
      ],
      "metadata": {
        "colab": {
          "base_uri": "https://localhost:8080/"
        },
        "id": "ApHfNTk9Y3RP",
        "outputId": "f0436448-278b-4401-d426-2f8f7163bd89"
      },
      "execution_count": null,
      "outputs": [
        {
          "output_type": "stream",
          "name": "stdout",
          "text": [
            "ตัวแปรที่ฉันคิด คือ name\n"
          ]
        }
      ]
    },
    {
      "cell_type": "code",
      "source": [
        "numeric1 = 5\n",
        "print(numeric1)\n",
        "type(numeric1)"
      ],
      "metadata": {
        "colab": {
          "base_uri": "https://localhost:8080/"
        },
        "id": "h6e9U8wwkG05",
        "outputId": "64cf202d-2445-4026-8e23-c964185aefd6"
      },
      "execution_count": null,
      "outputs": [
        {
          "output_type": "stream",
          "name": "stdout",
          "text": [
            "5\n"
          ]
        },
        {
          "output_type": "execute_result",
          "data": {
            "text/plain": [
              "int"
            ]
          },
          "metadata": {},
          "execution_count": 14
        }
      ]
    },
    {
      "cell_type": "markdown",
      "source": [
        "# **20 May 2567**\n",
        "*   ได้ฝึกใช้คำสั่ง print และแก้ไข้ Problem Print Command\n",
        "*   ได้รู้วิธีการพิมพ์โค้ดได้หลายบรรทัด\n",
        "\n",
        "\n",
        "\n",
        "\n"
      ],
      "metadata": {
        "id": "66QLxE7WK4HC"
      }
    },
    {
      "cell_type": "code",
      "source": [
        "print(\"Hello World Patinya Hub\")"
      ],
      "metadata": {
        "colab": {
          "base_uri": "https://localhost:8080/"
        },
        "id": "nU1tgJe9Cx9U",
        "outputId": "8e520ba0-b741-4894-c8fd-0084ddc91e47"
      },
      "execution_count": null,
      "outputs": [
        {
          "output_type": "stream",
          "name": "stdout",
          "text": [
            "Hello World Patinya Hub\n"
          ]
        }
      ]
    },
    {
      "cell_type": "code",
      "source": [
        "print('Hello World Patinya Hub')"
      ],
      "metadata": {
        "id": "Re5Re_s1gPQ3",
        "colab": {
          "base_uri": "https://localhost:8080/"
        },
        "outputId": "00b38972-75eb-4eb1-a821-743216bba190"
      },
      "execution_count": null,
      "outputs": [
        {
          "output_type": "stream",
          "name": "stdout",
          "text": [
            "Hello World Patinya Hub\n"
          ]
        }
      ]
    },
    {
      "cell_type": "code",
      "source": [
        "print(5*6-5)"
      ],
      "metadata": {
        "colab": {
          "base_uri": "https://localhost:8080/"
        },
        "id": "Ko9dwiY1EMD1",
        "outputId": "a984b107-08f9-4114-b098-d73a6ac0704b"
      },
      "execution_count": null,
      "outputs": [
        {
          "output_type": "stream",
          "name": "stdout",
          "text": [
            "25\n"
          ]
        }
      ]
    },
    {
      "cell_type": "code",
      "source": [
        "def atomic_mass(atom_num):\n",
        "    total_mass = atom_num / 1.66 * 10**-24\n",
        "    print(\"This atom has\", '%.3e' % total_mass, \"g\")\n",
        "\n",
        "\n",
        "atomic_mass(30)"
      ],
      "metadata": {
        "colab": {
          "base_uri": "https://localhost:8080/"
        },
        "id": "6DTxE3oz1_cq",
        "outputId": "924b0583-e001-452b-c52b-11aa30013860"
      },
      "execution_count": null,
      "outputs": [
        {
          "output_type": "stream",
          "name": "stdout",
          "text": [
            "This atom has 1.807e-23 g\n"
          ]
        }
      ]
    }
  ]
}